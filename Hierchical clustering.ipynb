{
 "cells": [
  {
   "cell_type": "code",
   "execution_count": 1,
   "metadata": {
    "collapsed": true
   },
   "outputs": [],
   "source": [
    "from sklearn.datasets import make_blobs,make_circles\n",
    "from scipy.cluster.hierarchy import linkage,dendrogram,cut_tree\n",
    "import pandas as pd\n",
    "import matplotlib.pyplot as plt"
   ]
  },
  {
   "cell_type": "code",
   "execution_count": 2,
   "metadata": {
    "collapsed": true
   },
   "outputs": [],
   "source": [
    "some_data,cluster=make_blobs(n_samples=20,n_features=2,random_state=12345,centers=2)###random state use to maintain constitency in output\n",
    "some_data1,cluster1=make_circles(n_samples=100,random_state=1234)\n"
   ]
  },
  {
   "cell_type": "code",
   "execution_count": 3,
   "metadata": {
    "scrolled": true
   },
   "outputs": [
    {
     "data": {
      "image/png": "[encoded data removed]",
      "text/plain": [
       "<matplotlib.figure.Figure at 0x1a9a68ea128>"
      ]
     },
     "metadata": {},
     "output_type": "display_data"
    },
    {
     "data": {
      "image/png": "[encoded data removed]",
      "text/plain": [
       "<matplotlib.figure.Figure at 0x1a9a6dc1c88>"
      ]
     },
     "metadata": {},
     "output_type": "display_data"
    }
   ],
   "source": [
    "plt.scatter(some_data[:,0],some_data[:,1])\n",
    "plt.show()\n",
    "plt.scatter(some_data1[:,0],some_data1[:,1])\n",
    "plt.show()"
   ]
  },
  {
   "cell_type": "code",
   "execution_count": 4,
   "metadata": {},
   "outputs": [
    {
     "data": {
      "text/plain": [
       "array([[  7.        ,  14.        ,   0.18959391,   2.        ],\n",
       "       [  5.        ,  10.        ,   0.29388326,   2.        ],\n",
       "       [  8.        ,  11.        ,   0.5201785 ,   2.        ],\n",
       "       [ 15.        ,  17.        ,   0.68595656,   2.        ],\n",
       "       [ 21.        ,  22.        ,   0.68886057,   4.        ],\n",
       "       [  4.        ,  16.        ,   0.84012808,   2.        ],\n",
       "       [ 13.        ,  20.        ,   0.85166295,   3.        ],\n",
       "       [  3.        ,  12.        ,   0.87376693,   2.        ],\n",
       "       [  1.        ,  18.        ,   1.08332484,   2.        ],\n",
       "       [  0.        ,  23.        ,   1.20574882,   3.        ],\n",
       "       [  6.        ,  19.        ,   1.66125302,   2.        ],\n",
       "       [ 24.        ,  25.        ,   1.67561411,   6.        ],\n",
       "       [  2.        ,  28.        ,   2.25855817,   3.        ],\n",
       "       [  9.        ,  26.        ,   2.35455865,   4.        ],\n",
       "       [ 27.        ,  31.        ,   2.78168523,   8.        ],\n",
       "       [ 29.        ,  32.        ,   3.36040207,   6.        ],\n",
       "       [ 30.        ,  34.        ,   3.98644314,  10.        ],\n",
       "       [ 33.        ,  35.        ,   5.29058637,  10.        ],\n",
       "       [ 36.        ,  37.        ,  20.76222171,  20.        ]])"
      ]
     },
     "execution_count": 4,
     "metadata": {},
     "output_type": "execute_result"
    }
   ],
   "source": [
    "links=linkage(y=some_data,method='complete')\n",
    "links"
   ]
  },
  {
   "cell_type": "code",
   "execution_count": 5,
   "metadata": {},
   "outputs": [
    {
     "data": {
      "image/png": "[encoded data removed]",
      "text/plain": [
       "<matplotlib.figure.Figure at 0x1a9a655d588>"
      ]
     },
     "metadata": {},
     "output_type": "display_data"
    }
   ],
   "source": [
    "dendrogram(links)\n",
    "plt.show()"
   ]
  },
  {
   "cell_type": "code",
   "execution_count": 6,
   "metadata": {},
   "outputs": [
    {
     "data": {
      "text/plain": [
       "array([[0],\n",
       "       [0],\n",
       "       [0],\n",
       "       [1],\n",
       "       [1],\n",
       "       [1],\n",
       "       [1],\n",
       "       [0],\n",
       "       [1],\n",
       "       [0],\n",
       "       [1],\n",
       "       [1],\n",
       "       [1],\n",
       "       [0],\n",
       "       [0],\n",
       "       [0],\n",
       "       [1],\n",
       "       [0],\n",
       "       [0],\n",
       "       [1]])"
      ]
     },
     "execution_count": 6,
     "metadata": {},
     "output_type": "execute_result"
    }
   ],
   "source": [
    "c=cut_tree(links,height=10)\n",
    "c"
   ]
  },
  {
   "cell_type": "code",
   "execution_count": 36,
   "metadata": {},
   "outputs": [
    {
     "ename": "AttributeError",
     "evalue": "'numpy.ndarray' object has no attribute 'n_clusters'",
     "output_type": "error",
     "traceback": [
      "\u001b[1;31m---------------------------------------------------------------------------\u001b[0m",
      "\u001b[1;31mAttributeError\u001b[0m                            Traceback (most recent call last)",
      "\u001b[1;32m<ipython-input-36-b875f5f57230>\u001b[0m in \u001b[0;36m<module>\u001b[1;34m()\u001b[0m\n\u001b[1;32m----> 1\u001b[1;33m \u001b[1;33m{\u001b[0m\u001b[0mi\u001b[0m\u001b[1;33m:\u001b[0m \u001b[0mnp\u001b[0m\u001b[1;33m.\u001b[0m\u001b[0mwhere\u001b[0m\u001b[1;33m(\u001b[0m\u001b[0mlinks\u001b[0m\u001b[1;33m.\u001b[0m\u001b[0mlabels_\u001b[0m \u001b[1;33m==\u001b[0m \u001b[0mi\u001b[0m\u001b[1;33m)\u001b[0m\u001b[1;33m[\u001b[0m\u001b[1;36m0\u001b[0m\u001b[1;33m]\u001b[0m \u001b[1;32mfor\u001b[0m \u001b[0mi\u001b[0m \u001b[1;32min\u001b[0m \u001b[0mrange\u001b[0m\u001b[1;33m(\u001b[0m\u001b[0mlinks\u001b[0m\u001b[1;33m.\u001b[0m\u001b[0mn_clusters\u001b[0m\u001b[1;33m)\u001b[0m\u001b[1;33m}\u001b[0m\u001b[1;33m\u001b[0m\u001b[0m\n\u001b[0m",
      "\u001b[1;31mAttributeError\u001b[0m: 'numpy.ndarray' object has no attribute 'n_clusters'"
     ]
    }
   ],
   "source": [
    "{i: np.where(links.labels_ == i)[0] for i in range(links.n_clusters)}"
   ]
  },
  {
   "cell_type": "code",
   "execution_count": 7,
   "metadata": {
    "collapsed": true
   },
   "outputs": [],
   "source": [
    "import numpy as np\n"
   ]
  },
  {
   "cell_type": "code",
   "execution_count": 8,
   "metadata": {
    "collapsed": true
   },
   "outputs": [],
   "source": [
    "some_data_outlier= np.vstack([some_data,np.array([30.098,40.234])])## adding one point to existing array"
   ]
  },
  {
   "cell_type": "code",
   "execution_count": 9,
   "metadata": {},
   "outputs": [
    {
     "data": {
      "image/png": "[encoded data removed]",
      "text/plain": [
       "<matplotlib.figure.Figure at 0x1a9a6face10>"
      ]
     },
     "metadata": {},
     "output_type": "display_data"
    }
   ],
   "source": [
    "link_outlier=linkage(some_data_outlier,method='complete')\n",
    "dendrogram(link_outlier)\n",
    "plt.show()\n"
   ]
  },
  {
   "cell_type": "code",
   "execution_count": 10,
   "metadata": {},
   "outputs": [
    {
     "data": {
      "text/plain": [
       "array([[  1.60000000e+01,   7.90000000e+01,   1.00464831e-01,\n",
       "          2.00000000e+00],\n",
       "       [  6.00000000e+00,   5.80000000e+01,   1.00464831e-01,\n",
       "          2.00000000e+00],\n",
       "       [  8.60000000e+01,   8.70000000e+01,   1.00464831e-01,\n",
       "          2.00000000e+00],\n",
       "       [  8.00000000e+01,   8.10000000e+01,   1.00464831e-01,\n",
       "          2.00000000e+00],\n",
       "       [  4.20000000e+01,   8.40000000e+01,   1.00464831e-01,\n",
       "          2.00000000e+00],\n",
       "       [  2.80000000e+01,   5.40000000e+01,   1.00464831e-01,\n",
       "          2.00000000e+00],\n",
       "       [  2.40000000e+01,   9.50000000e+01,   1.00464831e-01,\n",
       "          2.00000000e+00],\n",
       "       [  3.50000000e+01,   8.20000000e+01,   1.00464831e-01,\n",
       "          2.00000000e+00],\n",
       "       [  2.00000000e+00,   8.30000000e+01,   1.00464831e-01,\n",
       "          2.00000000e+00],\n",
       "       [  5.00000000e+00,   7.50000000e+01,   1.00464831e-01,\n",
       "          2.00000000e+00],\n",
       "       [  3.80000000e+01,   5.30000000e+01,   1.00464831e-01,\n",
       "          2.00000000e+00],\n",
       "       [  2.70000000e+01,   6.80000000e+01,   1.00464831e-01,\n",
       "          2.00000000e+00],\n",
       "       [  3.00000000e+00,   2.60000000e+01,   1.00464831e-01,\n",
       "          2.00000000e+00],\n",
       "       [  1.10000000e+01,   6.60000000e+01,   1.00464831e-01,\n",
       "          2.00000000e+00],\n",
       "       [  3.40000000e+01,   8.50000000e+01,   1.00464831e-01,\n",
       "          2.00000000e+00],\n",
       "       [  6.00000000e+01,   9.60000000e+01,   1.00464831e-01,\n",
       "          2.00000000e+00],\n",
       "       [  3.30000000e+01,   5.60000000e+01,   1.00464831e-01,\n",
       "          2.00000000e+00],\n",
       "       [  1.50000000e+01,   4.30000000e+01,   1.00464831e-01,\n",
       "          2.00000000e+00],\n",
       "       [  1.90000000e+01,   9.80000000e+01,   1.00464831e-01,\n",
       "          2.00000000e+00],\n",
       "       [  1.20000000e+01,   3.10000000e+01,   1.00464831e-01,\n",
       "          2.00000000e+00],\n",
       "       [  4.00000000e+00,   7.60000000e+01,   1.00464831e-01,\n",
       "          2.00000000e+00],\n",
       "       [  0.00000000e+00,   8.00000000e+00,   1.25581039e-01,\n",
       "          2.00000000e+00],\n",
       "       [  1.00000000e+00,   7.70000000e+01,   1.25581039e-01,\n",
       "          2.00000000e+00],\n",
       "       [  5.00000000e+01,   6.50000000e+01,   1.25581039e-01,\n",
       "          2.00000000e+00],\n",
       "       [  7.30000000e+01,   9.20000000e+01,   1.25581039e-01,\n",
       "          2.00000000e+00],\n",
       "       [  5.10000000e+01,   7.00000000e+01,   1.25581039e-01,\n",
       "          2.00000000e+00],\n",
       "       [  2.20000000e+01,   6.40000000e+01,   1.25581039e-01,\n",
       "          2.00000000e+00],\n",
       "       [  5.20000000e+01,   9.00000000e+01,   1.25581039e-01,\n",
       "          2.00000000e+00],\n",
       "       [  5.50000000e+01,   8.90000000e+01,   1.25581039e-01,\n",
       "          2.00000000e+00],\n",
       "       [  4.40000000e+01,   9.10000000e+01,   1.25581039e-01,\n",
       "          2.00000000e+00],\n",
       "       [  4.10000000e+01,   6.30000000e+01,   1.25581039e-01,\n",
       "          2.00000000e+00],\n",
       "       [  3.00000000e+01,   5.70000000e+01,   1.25581039e-01,\n",
       "          2.00000000e+00],\n",
       "       [  2.00000000e+01,   4.70000000e+01,   1.25581039e-01,\n",
       "          2.00000000e+00],\n",
       "       [  6.70000000e+01,   9.30000000e+01,   1.25581039e-01,\n",
       "          2.00000000e+00],\n",
       "       [  6.10000000e+01,   6.90000000e+01,   1.25581039e-01,\n",
       "          2.00000000e+00],\n",
       "       [  1.70000000e+01,   7.10000000e+01,   1.25581039e-01,\n",
       "          2.00000000e+00],\n",
       "       [  3.70000000e+01,   4.50000000e+01,   1.25581039e-01,\n",
       "          2.00000000e+00],\n",
       "       [  9.00000000e+00,   8.80000000e+01,   1.25581039e-01,\n",
       "          2.00000000e+00],\n",
       "       [  1.00000000e+01,   5.90000000e+01,   1.25581039e-01,\n",
       "          2.00000000e+00],\n",
       "       [  3.60000000e+01,   7.80000000e+01,   1.25581039e-01,\n",
       "          2.00000000e+00],\n",
       "       [  3.20000000e+01,   7.40000000e+01,   1.25581039e-01,\n",
       "          2.00000000e+00],\n",
       "       [  2.90000000e+01,   9.90000000e+01,   1.25581039e-01,\n",
       "          2.00000000e+00],\n",
       "       [  2.30000000e+01,   9.70000000e+01,   2.00000000e-01,\n",
       "          2.00000000e+00],\n",
       "       [  1.80000000e+01,   4.00000000e+01,   2.00000000e-01,\n",
       "          2.00000000e+00],\n",
       "       [  2.50000000e+01,   9.40000000e+01,   2.00000000e-01,\n",
       "          2.00000000e+00],\n",
       "       [  4.80000000e+01,   6.20000000e+01,   2.00000000e-01,\n",
       "          2.00000000e+00],\n",
       "       [  7.00000000e+00,   3.90000000e+01,   2.00000000e-01,\n",
       "          2.00000000e+00],\n",
       "       [  1.30000000e+01,   4.60000000e+01,   2.00000000e-01,\n",
       "          2.00000000e+00],\n",
       "       [  2.10000000e+01,   1.03000000e+02,   2.00533174e-01,\n",
       "          3.00000000e+00],\n",
       "       [  1.40000000e+01,   1.10000000e+02,   2.00533174e-01,\n",
       "          3.00000000e+00],\n",
       "       [  1.02000000e+02,   1.21000000e+02,   2.29382820e-01,\n",
       "          4.00000000e+00],\n",
       "       [  1.00000000e+02,   1.23000000e+02,   2.29382820e-01,\n",
       "          4.00000000e+00],\n",
       "       [  1.01000000e+02,   1.22000000e+02,   2.29382820e-01,\n",
       "          4.00000000e+00],\n",
       "       [  1.04000000e+02,   1.25000000e+02,   2.29382820e-01,\n",
       "          4.00000000e+00],\n",
       "       [  1.09000000e+02,   1.30000000e+02,   2.29382820e-01,\n",
       "          4.00000000e+00],\n",
       "       [  1.08000000e+02,   1.28000000e+02,   2.29382820e-01,\n",
       "          4.00000000e+00],\n",
       "       [  1.06000000e+02,   1.27000000e+02,   2.29382820e-01,\n",
       "          4.00000000e+00],\n",
       "       [  1.07000000e+02,   1.29000000e+02,   2.29382820e-01,\n",
       "          4.00000000e+00],\n",
       "       [  4.90000000e+01,   1.11000000e+02,   2.29382820e-01,\n",
       "          3.00000000e+00],\n",
       "       [  1.05000000e+02,   1.26000000e+02,   2.29382820e-01,\n",
       "          4.00000000e+00],\n",
       "       [  7.20000000e+01,   1.15000000e+02,   2.29382820e-01,\n",
       "          3.00000000e+00],\n",
       "       [  1.16000000e+02,   1.37000000e+02,   2.29382820e-01,\n",
       "          4.00000000e+00],\n",
       "       [  1.17000000e+02,   1.39000000e+02,   2.29382820e-01,\n",
       "          4.00000000e+00],\n",
       "       [  1.20000000e+02,   1.41000000e+02,   2.29382820e-01,\n",
       "          4.00000000e+00],\n",
       "       [  1.18000000e+02,   1.38000000e+02,   2.29382820e-01,\n",
       "          4.00000000e+00],\n",
       "       [  1.13000000e+02,   1.14000000e+02,   2.99810103e-01,\n",
       "          4.00000000e+00],\n",
       "       [  1.12000000e+02,   1.19000000e+02,   2.99810103e-01,\n",
       "          4.00000000e+00],\n",
       "       [  1.47000000e+02,   1.51000000e+02,   3.00444574e-01,\n",
       "          6.00000000e+00],\n",
       "       [  1.24000000e+02,   1.48000000e+02,   3.00444574e-01,\n",
       "          5.00000000e+00],\n",
       "       [  1.42000000e+02,   1.50000000e+02,   3.00444574e-01,\n",
       "          6.00000000e+00],\n",
       "       [  1.43000000e+02,   1.53000000e+02,   3.00444574e-01,\n",
       "          6.00000000e+00],\n",
       "       [  1.33000000e+02,   1.58000000e+02,   3.00444574e-01,\n",
       "          5.00000000e+00],\n",
       "       [  1.46000000e+02,   1.59000000e+02,   3.00444574e-01,\n",
       "          6.00000000e+00],\n",
       "       [  1.44000000e+02,   1.56000000e+02,   3.00444574e-01,\n",
       "          6.00000000e+00],\n",
       "       [  1.32000000e+02,   1.65000000e+02,   3.00444574e-01,\n",
       "          6.00000000e+00],\n",
       "       [  1.31000000e+02,   1.49000000e+02,   3.00444574e-01,\n",
       "          5.00000000e+00],\n",
       "       [  1.34000000e+02,   1.66000000e+02,   3.00444574e-01,\n",
       "          6.00000000e+00],\n",
       "       [  1.35000000e+02,   1.60000000e+02,   3.00444574e-01,\n",
       "          5.00000000e+00],\n",
       "       [  1.45000000e+02,   1.61000000e+02,   3.00444574e-01,\n",
       "          6.00000000e+00],\n",
       "       [  1.52000000e+02,   1.64000000e+02,   3.90330146e-01,\n",
       "          8.00000000e+00],\n",
       "       [  1.36000000e+02,   1.75000000e+02,   3.90330146e-01,\n",
       "          7.00000000e+00],\n",
       "       [  1.63000000e+02,   1.68000000e+02,   4.87759482e-01,\n",
       "          9.00000000e+00],\n",
       "       [  1.40000000e+02,   1.74000000e+02,   4.87759482e-01,\n",
       "          8.00000000e+00],\n",
       "       [  1.57000000e+02,   1.70000000e+02,   4.97379774e-01,\n",
       "          1.00000000e+01],\n",
       "       [  1.54000000e+02,   1.71000000e+02,   4.97379774e-01,\n",
       "          9.00000000e+00],\n",
       "       [  1.55000000e+02,   1.72000000e+02,   4.97379774e-01,\n",
       "          1.00000000e+01],\n",
       "       [  1.62000000e+02,   1.69000000e+02,   4.97379774e-01,\n",
       "          1.00000000e+01],\n",
       "       [  1.67000000e+02,   1.78000000e+02,   6.18033989e-01,\n",
       "          1.20000000e+01],\n",
       "       [  1.76000000e+02,   1.82000000e+02,   6.88222490e-01,\n",
       "          1.40000000e+01],\n",
       "       [  1.77000000e+02,   1.81000000e+02,   7.36249105e-01,\n",
       "          1.40000000e+01],\n",
       "       [  1.73000000e+02,   1.83000000e+02,   8.51558583e-01,\n",
       "          1.60000000e+01],\n",
       "       [  1.79000000e+02,   1.86000000e+02,   9.63507348e-01,\n",
       "          1.80000000e+01],\n",
       "       [  1.80000000e+02,   1.88000000e+02,   1.07165359e+00,\n",
       "          2.10000000e+01],\n",
       "       [  1.84000000e+02,   1.90000000e+02,   1.36909421e+00,\n",
       "          2.50000000e+01],\n",
       "       [  1.87000000e+02,   1.89000000e+02,   1.36909421e+00,\n",
       "          2.60000000e+01],\n",
       "       [  1.85000000e+02,   1.91000000e+02,   1.45793725e+00,\n",
       "          2.80000000e+01],\n",
       "       [  1.92000000e+02,   1.93000000e+02,   1.96457450e+00,\n",
       "          4.60000000e+01],\n",
       "       [  1.95000000e+02,   1.96000000e+02,   2.00000000e+00,\n",
       "          7.40000000e+01],\n",
       "       [  1.94000000e+02,   1.97000000e+02,   2.00000000e+00,\n",
       "          1.00000000e+02]])"
      ]
     },
     "execution_count": 10,
     "metadata": {},
     "output_type": "execute_result"
    }
   ],
   "source": [
    "links_new=linkage(y=some_data1,method='complete')\n",
    "links_new"
   ]
  },
  {
   "cell_type": "code",
   "execution_count": 11,
   "metadata": {},
   "outputs": [
    {
     "data": {
      "image/png": "[encoded data removed]",
      "text/plain": [
       "<matplotlib.figure.Figure at 0x1a9a6f775c0>"
      ]
     },
     "metadata": {},
     "output_type": "display_data"
    }
   ],
   "source": [
    "dendrogram(links_new)\n",
    "plt.show()"
   ]
  },
  {
   "cell_type": "code",
   "execution_count": 40,
   "metadata": {
    "collapsed": true,
    "scrolled": false
   },
   "outputs": [],
   "source": [
    "links_new1=linkage(y=some_data1,method='single')\n",
    "##links_new1"
   ]
  },
  {
   "cell_type": "code",
   "execution_count": 13,
   "metadata": {},
   "outputs": [
    {
     "data": {
      "image/png": "[encoded data removed]",
      "text/plain": [
       "<matplotlib.figure.Figure at 0x1a9a6f65828>"
      ]
     },
     "metadata": {},
     "output_type": "display_data"
    }
   ],
   "source": [
    "dendrogram(links_new1)\n",
    "plt.show()"
   ]
  },
  {
   "cell_type": "code",
   "execution_count": 34,
   "metadata": {
    "scrolled": true
   },
   "outputs": [
    {
     "data": {
      "text/plain": [
       "array([0, 0, 1, 1, 1, 1, 1, 0, 0, 0, 0, 1, 1, 1, 1, 1, 1, 0, 1, 1, 0, 1, 0,\n",
       "       1, 1, 1, 1, 1, 1, 0, 0, 1, 0, 1, 1, 1, 0, 0, 1, 1, 0, 0, 1, 1, 0, 0,\n",
       "       0, 0, 0, 0, 0, 0, 0, 1, 1, 0, 1, 0, 1, 0, 1, 0, 1, 0, 0, 0, 1, 0, 1,\n",
       "       0, 0, 0, 0, 0, 0, 1, 1, 0, 0, 1, 1, 1, 1, 1, 1, 1, 1, 1, 0, 0, 0, 0,\n",
       "       0, 0, 0, 1, 1, 0, 1, 0])"
      ]
     },
     "execution_count": 34,
     "metadata": {},
     "output_type": "execute_result"
    }
   ],
   "source": [
    "c2=c1.flatten()\n",
    "c2"
   ]
  },
  {
   "cell_type": "code",
   "execution_count": 35,
   "metadata": {},
   "outputs": [
    {
     "data": {
      "image/png": "[encoded data removed]",
      "text/plain": [
       "<matplotlib.figure.Figure at 0x1a9a74cfa20>"
      ]
     },
     "metadata": {},
     "output_type": "display_data"
    }
   ],
   "source": [
    "c1=cut_tree(links_new1,height=0.175)\n",
    "c2=c1.flatten()\n",
    "plt.scatter(some_data1[c2==0,0],some_data1[c2==0,1])\n",
    "plt.scatter(some_data1[c2==1,0],some_data1[c2==1,1],c='red')\n",
    "plt.show()"
   ]
  },
  {
   "cell_type": "code",
   "execution_count": 18,
   "metadata": {},
   "outputs": [
    {
     "data": {
      "image/png": "[encoded data removed]",
      "text/plain": [
       "<matplotlib.figure.Figure at 0x1a9a70b0e80>"
      ]
     },
     "metadata": {},
     "output_type": "display_data"
    }
   ],
   "source": [
    "plt.scatter(some_data1[c1[:,0]==0,0],some_data1[c1[:,0]==0,1])\n",
    "plt.scatter(some_data1[c1[:,0]==1,0],some_data1[c1[:,0]==1,1],c='red')\n",
    "plt.show()"
   ]
  },
  {
   "cell_type": "code",
   "execution_count": 19,
   "metadata": {
    "collapsed": true
   },
   "outputs": [],
   "source": [
    "data=pd.read_csv(\"E:/Term-1/ML/Tutorial/Wholesale customers data.csv\")"
   ]
  },
  {
   "cell_type": "code",
   "execution_count": 20,
   "metadata": {},
   "outputs": [
    {
     "data": {
      "text/html": [
       "<div>\n",
       "<style>\n",
       "    .dataframe thead tr:only-child th {\n",
       "        text-align: right;\n",
       "    }\n",
       "\n",
       "    .dataframe thead th {\n",
       "        text-align: left;\n",
       "    }\n",
       "\n",
       "    .dataframe tbody tr th {\n",
       "        vertical-align: top;\n",
       "    }\n",
       "</style>\n",
       "<table border=\"1\" class=\"dataframe\">\n",
       "  <thead>\n",
       "    <tr style=\"text-align: right;\">\n",
       "      <th></th>\n",
       "      <th>Channel</th>\n",
       "      <th>Region</th>\n",
       "      <th>Fresh</th>\n",
       "      <th>Milk</th>\n",
       "      <th>Grocery</th>\n",
       "      <th>Frozen</th>\n",
       "      <th>Detergents_Paper</th>\n",
       "      <th>Delicassen</th>\n",
       "    </tr>\n",
       "  </thead>\n",
       "  <tbody>\n",
       "    <tr>\n",
       "      <th>0</th>\n",
       "      <td>2</td>\n",
       "      <td>3</td>\n",
       "      <td>12669</td>\n",
       "      <td>9656</td>\n",
       "      <td>7561</td>\n",
       "      <td>214</td>\n",
       "      <td>2674</td>\n",
       "      <td>1338</td>\n",
       "    </tr>\n",
       "    <tr>\n",
       "      <th>1</th>\n",
       "      <td>2</td>\n",
       "      <td>3</td>\n",
       "      <td>7057</td>\n",
       "      <td>9810</td>\n",
       "      <td>9568</td>\n",
       "      <td>1762</td>\n",
       "      <td>3293</td>\n",
       "      <td>1776</td>\n",
       "    </tr>\n",
       "    <tr>\n",
       "      <th>2</th>\n",
       "      <td>2</td>\n",
       "      <td>3</td>\n",
       "      <td>6353</td>\n",
       "      <td>8808</td>\n",
       "      <td>7684</td>\n",
       "      <td>2405</td>\n",
       "      <td>3516</td>\n",
       "      <td>7844</td>\n",
       "    </tr>\n",
       "    <tr>\n",
       "      <th>3</th>\n",
       "      <td>1</td>\n",
       "      <td>3</td>\n",
       "      <td>13265</td>\n",
       "      <td>1196</td>\n",
       "      <td>4221</td>\n",
       "      <td>6404</td>\n",
       "      <td>507</td>\n",
       "      <td>1788</td>\n",
       "    </tr>\n",
       "    <tr>\n",
       "      <th>4</th>\n",
       "      <td>2</td>\n",
       "      <td>3</td>\n",
       "      <td>22615</td>\n",
       "      <td>5410</td>\n",
       "      <td>7198</td>\n",
       "      <td>3915</td>\n",
       "      <td>1777</td>\n",
       "      <td>5185</td>\n",
       "    </tr>\n",
       "  </tbody>\n",
       "</table>\n",
       "</div>"
      ],
      "text/plain": [
       "   Channel  Region  Fresh  Milk  Grocery  Frozen  Detergents_Paper  Delicassen\n",
       "0        2       3  12669  9656     7561     214              2674        1338\n",
       "1        2       3   7057  9810     9568    1762              3293        1776\n",
       "2        2       3   6353  8808     7684    2405              3516        7844\n",
       "3        1       3  13265  1196     4221    6404               507        1788\n",
       "4        2       3  22615  5410     7198    3915              1777        5185"
      ]
     },
     "execution_count": 20,
     "metadata": {},
     "output_type": "execute_result"
    }
   ],
   "source": [
    "data.head()"
   ]
  },
  {
   "cell_type": "code",
   "execution_count": 21,
   "metadata": {},
   "outputs": [
    {
     "data": {
      "text/plain": [
       "Channel             0\n",
       "Region              0\n",
       "Fresh               0\n",
       "Milk                0\n",
       "Grocery             0\n",
       "Frozen              0\n",
       "Detergents_Paper    0\n",
       "Delicassen          0\n",
       "dtype: int64"
      ]
     },
     "execution_count": 21,
     "metadata": {},
     "output_type": "execute_result"
    }
   ],
   "source": [
    "data.isnull().sum()"
   ]
  },
  {
   "cell_type": "code",
   "execution_count": 22,
   "metadata": {
    "collapsed": true
   },
   "outputs": [],
   "source": [
    "data1=data.iloc[:,2:8]"
   ]
  },
  {
   "cell_type": "code",
   "execution_count": 23,
   "metadata": {},
   "outputs": [
    {
     "data": {
      "text/html": [
       "<div>\n",
       "<style>\n",
       "    .dataframe thead tr:only-child th {\n",
       "        text-align: right;\n",
       "    }\n",
       "\n",
       "    .dataframe thead th {\n",
       "        text-align: left;\n",
       "    }\n",
       "\n",
       "    .dataframe tbody tr th {\n",
       "        vertical-align: top;\n",
       "    }\n",
       "</style>\n",
       "<table border=\"1\" class=\"dataframe\">\n",
       "  <thead>\n",
       "    <tr style=\"text-align: right;\">\n",
       "      <th></th>\n",
       "      <th>Fresh</th>\n",
       "      <th>Milk</th>\n",
       "      <th>Grocery</th>\n",
       "      <th>Frozen</th>\n",
       "      <th>Detergents_Paper</th>\n",
       "      <th>Delicassen</th>\n",
       "    </tr>\n",
       "  </thead>\n",
       "  <tbody>\n",
       "    <tr>\n",
       "      <th>0</th>\n",
       "      <td>12669</td>\n",
       "      <td>9656</td>\n",
       "      <td>7561</td>\n",
       "      <td>214</td>\n",
       "      <td>2674</td>\n",
       "      <td>1338</td>\n",
       "    </tr>\n",
       "    <tr>\n",
       "      <th>1</th>\n",
       "      <td>7057</td>\n",
       "      <td>9810</td>\n",
       "      <td>9568</td>\n",
       "      <td>1762</td>\n",
       "      <td>3293</td>\n",
       "      <td>1776</td>\n",
       "    </tr>\n",
       "    <tr>\n",
       "      <th>2</th>\n",
       "      <td>6353</td>\n",
       "      <td>8808</td>\n",
       "      <td>7684</td>\n",
       "      <td>2405</td>\n",
       "      <td>3516</td>\n",
       "      <td>7844</td>\n",
       "    </tr>\n",
       "    <tr>\n",
       "      <th>3</th>\n",
       "      <td>13265</td>\n",
       "      <td>1196</td>\n",
       "      <td>4221</td>\n",
       "      <td>6404</td>\n",
       "      <td>507</td>\n",
       "      <td>1788</td>\n",
       "    </tr>\n",
       "    <tr>\n",
       "      <th>4</th>\n",
       "      <td>22615</td>\n",
       "      <td>5410</td>\n",
       "      <td>7198</td>\n",
       "      <td>3915</td>\n",
       "      <td>1777</td>\n",
       "      <td>5185</td>\n",
       "    </tr>\n",
       "  </tbody>\n",
       "</table>\n",
       "</div>"
      ],
      "text/plain": [
       "   Fresh  Milk  Grocery  Frozen  Detergents_Paper  Delicassen\n",
       "0  12669  9656     7561     214              2674        1338\n",
       "1   7057  9810     9568    1762              3293        1776\n",
       "2   6353  8808     7684    2405              3516        7844\n",
       "3  13265  1196     4221    6404               507        1788\n",
       "4  22615  5410     7198    3915              1777        5185"
      ]
     },
     "execution_count": 23,
     "metadata": {},
     "output_type": "execute_result"
    }
   ],
   "source": [
    "data1.head()"
   ]
  },
  {
   "cell_type": "code",
   "execution_count": 24,
   "metadata": {},
   "outputs": [
    {
     "data": {
      "text/plain": [
       "array([[  9.70000000e+01,   9.80000000e+01,   2.78915758e+02,\n",
       "          2.00000000e+00],\n",
       "       [  2.99000000e+02,   3.55000000e+02,   3.44884038e+02,\n",
       "          2.00000000e+00],\n",
       "       [  1.14000000e+02,   2.17000000e+02,   4.12889816e+02,\n",
       "          2.00000000e+00],\n",
       "       ..., \n",
       "       [  8.73000000e+02,   8.74000000e+02,   8.52491611e+04,\n",
       "          4.31000000e+02],\n",
       "       [  8.75000000e+02,   8.76000000e+02,   1.17721147e+05,\n",
       "          4.37000000e+02],\n",
       "       [  8.71000000e+02,   8.77000000e+02,   1.28968393e+05,\n",
       "          4.40000000e+02]])"
      ]
     },
     "execution_count": 24,
     "metadata": {},
     "output_type": "execute_result"
    }
   ],
   "source": [
    "links_wholesale=linkage(y=data1,method='complete')\n",
    "links_wholesale"
   ]
  },
  {
   "cell_type": "code",
   "execution_count": 25,
   "metadata": {},
   "outputs": [
    {
     "data": {
      "image/png": "[encoded data removed]",
      "text/plain": [
       "<matplotlib.figure.Figure at 0x1a9a737e2e8>"
      ]
     },
     "metadata": {},
     "output_type": "display_data"
    }
   ],
   "source": [
    "dendrogram(links_wholesale)\n",
    "plt.show()"
   ]
  },
  {
   "cell_type": "code",
   "execution_count": 26,
   "metadata": {
    "scrolled": true
   },
   "outputs": [
    {
     "data": {
      "text/plain": [
       "0    326\n",
       "1     54\n",
       "2     48\n",
       "3      4\n",
       "6      2\n",
       "5      2\n",
       "4      2\n",
       "8      1\n",
       "7      1\n",
       "Name: 0, dtype: int64"
      ]
     },
     "execution_count": 26,
     "metadata": {},
     "output_type": "execute_result"
    }
   ],
   "source": [
    "c_wholesale=cut_tree(links_wholesale,height=50000)\n",
    "c_wholesale.shape\n",
    "c_wholesale\n",
    "cluster_count=pd.DataFrame(c_wholesale).iloc[:,0].value_counts()###to get no of cluster\n",
    "cluster_count"
   ]
  },
  {
   "cell_type": "code",
   "execution_count": 38,
   "metadata": {},
   "outputs": [
    {
     "ename": "TypeError",
     "evalue": "only integer scalar arrays can be converted to a scalar index",
     "output_type": "error",
     "traceback": [
      "\u001b[1;31m---------------------------------------------------------------------------\u001b[0m",
      "\u001b[1;31mTypeError\u001b[0m                                 Traceback (most recent call last)",
      "\u001b[1;32m<ipython-input-38-a91f64165f02>\u001b[0m in \u001b[0;36m<module>\u001b[1;34m()\u001b[0m\n\u001b[1;32m----> 1\u001b[1;33m \u001b[1;33m{\u001b[0m\u001b[0mi\u001b[0m\u001b[1;33m:\u001b[0m \u001b[0mnp\u001b[0m\u001b[1;33m.\u001b[0m\u001b[0mwhere\u001b[0m\u001b[1;33m(\u001b[0m\u001b[0mcluster_count\u001b[0m \u001b[1;33m==\u001b[0m \u001b[0mi\u001b[0m\u001b[1;33m)\u001b[0m\u001b[1;33m[\u001b[0m\u001b[1;36m0\u001b[0m\u001b[1;33m]\u001b[0m \u001b[1;32mfor\u001b[0m \u001b[0mi\u001b[0m \u001b[1;32min\u001b[0m \u001b[0mrange\u001b[0m\u001b[1;33m(\u001b[0m\u001b[0mlinks_wholesale\u001b[0m\u001b[1;33m)\u001b[0m\u001b[1;33m}\u001b[0m\u001b[1;33m\u001b[0m\u001b[0m\n\u001b[0m",
      "\u001b[1;31mTypeError\u001b[0m: only integer scalar arrays can be converted to a scalar index"
     ]
    }
   ],
   "source": [
    "{i: np.where(cluster_count == i)[0] for i in range(links_wholesale)}"
   ]
  },
  {
   "cell_type": "code",
   "execution_count": 39,
   "metadata": {},
   "outputs": [
    {
     "data": {
      "text/plain": [
       "array([[  9.70000000e+01,   9.80000000e+01,   2.78915758e+02,\n",
       "          2.00000000e+00],\n",
       "       [  2.99000000e+02,   3.55000000e+02,   3.44884038e+02,\n",
       "          2.00000000e+00],\n",
       "       [  1.14000000e+02,   2.17000000e+02,   4.12889816e+02,\n",
       "          2.00000000e+00],\n",
       "       ..., \n",
       "       [  8.50000000e+01,   8.75000000e+02,   4.19609404e+04,\n",
       "          4.38000000e+02],\n",
       "       [  1.83000000e+02,   8.76000000e+02,   4.64595912e+04,\n",
       "          4.39000000e+02],\n",
       "       [  1.81000000e+02,   8.77000000e+02,   4.65997897e+04,\n",
       "          4.40000000e+02]])"
      ]
     },
     "execution_count": 39,
     "metadata": {},
     "output_type": "execute_result"
    }
   ],
   "source": [
    "links_wholesale1=linkage(y=data1,method='single')\n",
    "links_wholesale1"
   ]
  },
  {
   "cell_type": "code",
   "execution_count": 31,
   "metadata": {},
   "outputs": [
    {
     "data": {
      "image/png": "[encoded data removed]",
      "text/plain": [
       "<matplotlib.figure.Figure at 0x1a9a75ffb38>"
      ]
     },
     "metadata": {},
     "output_type": "display_data"
    }
   ],
   "source": [
    "dendrogram(links_wholesale1)\n",
    "from sklearn.metrics import silhouette_score\n",
    "plt.show()"
   ]
  },
  {
   "cell_type": "code",
   "execution_count": 30,
   "metadata": {
    "scrolled": true
   },
   "outputs": [
    {
     "name": "stderr",
     "output_type": "stream",
     "text": [
      "C:\\ProgramData\\Anaconda3\\lib\\site-packages\\sklearn\\utils\\validation.py:578: DataConversionWarning: A column-vector y was passed when a 1d array was expected. Please change the shape of y to (n_samples, ), for example using ravel().\n",
      "  y = column_or_1d(y, warn=True)\n"
     ]
    },
    {
     "data": {
      "text/plain": [
       "0.42793643968157408"
      ]
     },
     "execution_count": 30,
     "metadata": {},
     "output_type": "execute_result"
    }
   ],
   "source": [
    "from sklearn.metrics import silhouette_score\n",
    "\n",
    "silhouette_score(X=data1,labels=c_wholesale)"
   ]
  },
  {
   "cell_type": "code",
   "execution_count": 1,
   "metadata": {
    "collapsed": true
   },
   "outputs": [],
   "source": [
    "from sklearn.neighbors import LocalOutlierFactor"
   ]
  },
  {
   "cell_type": "code",
   "execution_count": null,
   "metadata": {
    "collapsed": true
   },
   "outputs": [],
   "source": [
    "clf=LocalOutlierFactor(n_neighbors=20)\n",
    "y_pred=clf.fit_predict(data_ne)"
   ]
  }
 ],
 "metadata": {
  "kernelspec": {
   "display_name": "Python 3",
   "language": "python",
   "name": "python3"
  },
  "language_info": {
   "codemirror_mode": {
    "name": "ipython",
    "version": 3
   },
   "file_extension": ".py",
   "mimetype": "text/x-python",
   "name": "python",
   "nbconvert_exporter": "python",
   "pygments_lexer": "ipython3",
   "version": "3.6.5"
  }
 },
 "nbformat": 4,
 "nbformat_minor": 2
}
